{
 "cells": [
  {
   "cell_type": "markdown",
   "id": "89c121dd",
   "metadata": {},
   "source": [
    "# Instance based methods: Exercise 1"
   ]
  },
  {
   "cell_type": "markdown",
   "id": "1ca419be",
   "metadata": {},
   "source": [
    "## Implementation of k-nearest neighbors algorithm"
   ]
  },
  {
   "cell_type": "markdown",
   "id": "0364ad5f",
   "metadata": {},
   "source": [
    "### Calculate euclidean distance"
   ]
  },
  {
   "cell_type": "code",
   "execution_count": 40,
   "id": "c69e23ab",
   "metadata": {},
   "outputs": [],
   "source": [
    "def calculate_distance(row1, row2):\n",
    "    distance = 0.0\n",
    "    for i in range(len(row1)-1):\n",
    "        distance += (row1[i] - row2[i])**2\n",
    "    return sqrt(distance)"
   ]
  },
  {
   "cell_type": "markdown",
   "id": "19c36583",
   "metadata": {},
   "source": [
    "### Get neighbors"
   ]
  },
  {
   "cell_type": "code",
   "execution_count": 41,
   "id": "9187ad9a",
   "metadata": {},
   "outputs": [],
   "source": [
    "def get_neighbors(train, test_row, num_neighbors):\n",
    "    distances = list()\n",
    "    for train_row in train:\n",
    "        dist = calculate_distance(test_row, train_row)\n",
    "        distances.append((train_row, dist))\n",
    "    distances.sort(key=lambda tup: tup[1])\n",
    "    neighbors = list()\n",
    "    for i in range(num_neighbors):\n",
    "        neighbors.append(distances[i][0])\n",
    "    return neighbors"
   ]
  },
  {
   "cell_type": "markdown",
   "id": "6259c5b7",
   "metadata": {},
   "source": [
    "### Make prediction on class"
   ]
  },
  {
   "cell_type": "code",
   "execution_count": 42,
   "id": "741cf81f",
   "metadata": {},
   "outputs": [],
   "source": [
    "def predict_class(train, test_row, num_neighbors):\n",
    "    neighbors = get_neighbors(train, test_row, num_neighbors)\n",
    "    output_values = [row[-1] for row in neighbors]\n",
    "    prediction = max(set(output_values), key=output_values.count)\n",
    "    return prediction"
   ]
  },
  {
   "cell_type": "markdown",
   "id": "a0ba6d0c",
   "metadata": {},
   "source": [
    "Wire everything up, make prediction on test data and print result. Test data contains random values."
   ]
  },
  {
   "cell_type": "code",
   "execution_count": 43,
   "id": "e44fcd4e",
   "metadata": {},
   "outputs": [
    {
     "name": "stdout",
     "output_type": "stream",
     "text": [
      "Expected class:  0\n",
      "Predicted class:  0\n"
     ]
    }
   ],
   "source": [
    "data = [\n",
    "    [1.1,2.2,0],\n",
    "    [1.9,2.0,0],\n",
    "    [2.7,3.2,0],\n",
    "    [2.6,1.1,0],\n",
    "    [4.0,3.6,0],\n",
    "    [6.4,2.9,1],\n",
    "    [6.6,2.4,1],\n",
    "    [7.0,1.4,1],\n",
    "    [8.4,0.9,1],\n",
    "    [9.9,3.1,1]]\n",
    "\n",
    "prediction = predict_class(data, data[0], 10)\n",
    "\n",
    "print('Expected class: ', data[0][-1])\n",
    "print('Predicted class: ', prediction)"
   ]
  }
 ],
 "metadata": {
  "kernelspec": {
   "display_name": "Python 3 (ipykernel)",
   "language": "python",
   "name": "python3"
  },
  "language_info": {
   "codemirror_mode": {
    "name": "ipython",
    "version": 3
   },
   "file_extension": ".py",
   "mimetype": "text/x-python",
   "name": "python",
   "nbconvert_exporter": "python",
   "pygments_lexer": "ipython3",
   "version": "3.8.10"
  }
 },
 "nbformat": 4,
 "nbformat_minor": 5
}
