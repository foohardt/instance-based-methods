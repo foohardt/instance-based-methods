{
 "cells": [
  {
   "cell_type": "markdown",
   "id": "0b092ab1",
   "metadata": {},
   "source": [
    "# Instance based methods: Exercise 1"
   ]
  },
  {
   "cell_type": "markdown",
   "id": "b8150289",
   "metadata": {},
   "source": [
    "## Implementation of k-nearest neighbors algorithm"
   ]
  },
  {
   "cell_type": "markdown",
   "id": "8b6b0647",
   "metadata": {},
   "source": [
    "### Calculate euclidean distance"
   ]
  },
  {
   "cell_type": "code",
   "execution_count": 59,
   "id": "2814634f",
   "metadata": {},
   "outputs": [],
   "source": [
    "from math import sqrt\n",
    "\n",
    "def calculate_distance(instance1, instance2):\n",
    "    distance = 0.0\n",
    "    for i in range(len(instance1)-1):\n",
    "        distance += (instance1[i] - instance2[i])**2\n",
    "    return sqrt(distance)"
   ]
  },
  {
   "cell_type": "markdown",
   "id": "7be1cefa",
   "metadata": {},
   "source": [
    "### Get neighbors"
   ]
  },
  {
   "cell_type": "code",
   "execution_count": 60,
   "id": "d7c2c30c",
   "metadata": {},
   "outputs": [],
   "source": [
    "def get_neighbors(training_data, test_instance, k):\n",
    "    distances = []\n",
    "    for train_instance in training_data:\n",
    "        dist = calculate_distance(test_instance, train_instance)\n",
    "        distances.append((train_instance, dist))\n",
    "    distances.sort(key=lambda tup: tup[1])\n",
    "    neighbors = []\n",
    "    for i in range(k):\n",
    "        neighbors.append(distances[i][0])\n",
    "    return neighbors"
   ]
  },
  {
   "cell_type": "markdown",
   "id": "b885b416",
   "metadata": {},
   "source": [
    "### Make prediction on class"
   ]
  },
  {
   "cell_type": "code",
   "execution_count": 61,
   "id": "2f0f0065",
   "metadata": {},
   "outputs": [],
   "source": [
    "def predict_class(training_data, test_instance, k):\n",
    "    neighbors = get_neighbors(training_data, test_instance, k)\n",
    "    output_values = [row[-1] for row in neighbors]\n",
    "    prediction = max(set(output_values), key=output_values.count)\n",
    "    return prediction"
   ]
  },
  {
   "cell_type": "markdown",
   "id": "8a193891",
   "metadata": {},
   "source": [
    "Wire everything up, make prediction on test data and print result. Test data contains random values."
   ]
  },
  {
   "cell_type": "code",
   "execution_count": 62,
   "id": "7d0ce8f6",
   "metadata": {},
   "outputs": [
    {
     "name": "stdout",
     "output_type": "stream",
     "text": [
      "Expected class:  0\n",
      "Predicted class:  0\n"
     ]
    }
   ],
   "source": [
    "data = [\n",
    "    [1.1,2.2,0],\n",
    "    [1.9,2.0,0],\n",
    "    [2.7,3.2,0],\n",
    "    [2.6,1.1,0],\n",
    "    [4.0,3.6,0],\n",
    "    [6.4,2.9,1],\n",
    "    [6.6,2.4,1],\n",
    "    [7.0,1.4,1],\n",
    "    [8.4,0.9,1],\n",
    "    [9.9,3.1,1]]\n",
    "\n",
    "prediction = predict_class(data, data[0], 10)\n",
    "\n",
    "print('Expected class: ', data[0][-1])\n",
    "print('Predicted class: ', prediction)"
   ]
  }
 ],
 "metadata": {
  "kernelspec": {
   "display_name": "Python 3 (ipykernel)",
   "language": "python",
   "name": "python3"
  },
  "language_info": {
   "codemirror_mode": {
    "name": "ipython",
    "version": 3
   },
   "file_extension": ".py",
   "mimetype": "text/x-python",
   "name": "python",
   "nbconvert_exporter": "python",
   "pygments_lexer": "ipython3",
   "version": "3.8.10"
  }
 },
 "nbformat": 4,
 "nbformat_minor": 5
}
