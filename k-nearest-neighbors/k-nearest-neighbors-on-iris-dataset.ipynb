{
 "cells": [
  {
   "cell_type": "markdown",
   "id": "0b092ab1",
   "metadata": {},
   "source": [
    "# Instance based methods: Exercise 2"
   ]
  },
  {
   "cell_type": "markdown",
   "id": "b8150289",
   "metadata": {},
   "source": [
    "## Appl k-nearest neighbors algorithm on Iris dataset"
   ]
  },
  {
   "cell_type": "markdown",
   "id": "c5b141c5",
   "metadata": {},
   "source": [
    "### Import iris dataset"
   ]
  },
  {
   "cell_type": "code",
   "execution_count": 77,
   "id": "0c4cf301",
   "metadata": {},
   "outputs": [],
   "source": [
    "from csv import reader\n",
    "from math import sqrt\n",
    " \n",
    "def load_iris_dataset(filename):\n",
    "    dataset = list()\n",
    "    with open(filename, 'r') as file:\n",
    "        csv_reader = reader(file)\n",
    "        for row in csv_reader:\n",
    "            if not row:\n",
    "                continue\n",
    "            dataset.append(row)\n",
    "    return dataset"
   ]
  },
  {
   "cell_type": "markdown",
   "id": "455dafbc",
   "metadata": {},
   "source": [
    "### Convert numeric string values in dataset to floats"
   ]
  },
  {
   "cell_type": "code",
   "execution_count": 66,
   "id": "2b09188a",
   "metadata": {},
   "outputs": [],
   "source": [
    "def str_column_to_float(dataset, column):\n",
    "    for row in dataset:\n",
    "        row[column] = float(row[column].strip())"
   ]
  },
  {
   "cell_type": "markdown",
   "id": "1580a7c5",
   "metadata": {},
   "source": [
    "### Convert target classes to integer values"
   ]
  },
  {
   "cell_type": "code",
   "execution_count": 67,
   "id": "ae9011f7",
   "metadata": {},
   "outputs": [],
   "source": [
    "def str_column_to_int(dataset, column):\n",
    "    class_values = [row[column] for row in dataset]\n",
    "    unique = set(class_values)\n",
    "    lookup = dict()\n",
    "    for i, value in enumerate(unique):\n",
    "        lookup[value] = i\n",
    "        print('[%s] => %d' % (value, i))\n",
    "    for row in dataset:\n",
    "        row[column] = lookup[row[column]]\n",
    "    return lookup"
   ]
  },
  {
   "cell_type": "markdown",
   "id": "b67feccc",
   "metadata": {},
   "source": [
    "### Find the min and max values for each column"
   ]
  },
  {
   "cell_type": "code",
   "execution_count": 68,
   "id": "a83f8ba5",
   "metadata": {},
   "outputs": [],
   "source": [
    "def min_max(data):\n",
    "    minmax = list()\n",
    "    for i in range(len(data[0])):\n",
    "        col_values = [row[i] for row in data]\n",
    "        value_min = min(col_values)\n",
    "        value_max = max(col_values)\n",
    "        minmax.append([value_min, value_max])\n",
    "    return minmax"
   ]
  },
  {
   "cell_type": "markdown",
   "id": "4be1a23b",
   "metadata": {},
   "source": [
    "### Normalize dataset in interval (0,1)"
   ]
  },
  {
   "cell_type": "code",
   "execution_count": 69,
   "id": "77f090e5",
   "metadata": {},
   "outputs": [],
   "source": [
    "def normalize_dataset(dataset, minmax):\n",
    "    for row in dataset:\n",
    "        for i in range(len(row)):\n",
    "            row[i] = (row[i] - minmax[i][0]) / (minmax[i][1] - minmax[i][0])"
   ]
  },
  {
   "cell_type": "markdown",
   "id": "8b6b0647",
   "metadata": {},
   "source": [
    "### Calculate euclidean distance"
   ]
  },
  {
   "cell_type": "code",
   "execution_count": 70,
   "id": "2814634f",
   "metadata": {},
   "outputs": [],
   "source": [
    "from math import sqrt\n",
    "\n",
    "def calculate_distance(instance1, instance2):\n",
    "    distance = 0.0\n",
    "    for i in range(len(instance1)-1):\n",
    "        distance += (instance1[i] - instance2[i])**2\n",
    "    return sqrt(distance)"
   ]
  },
  {
   "cell_type": "markdown",
   "id": "7be1cefa",
   "metadata": {},
   "source": [
    "### Get neighbors"
   ]
  },
  {
   "cell_type": "code",
   "execution_count": 71,
   "id": "d7c2c30c",
   "metadata": {},
   "outputs": [],
   "source": [
    "def get_neighbors(training_data, test_instance, k):\n",
    "    distances = []\n",
    "    for train_instance in training_data:\n",
    "        dist = calculate_distance(test_instance, train_instance)\n",
    "        distances.append((train_instance, dist))\n",
    "    distances.sort(key=lambda tup: tup[1])\n",
    "    neighbors = []\n",
    "    for i in range(k):\n",
    "        neighbors.append(distances[i][0])\n",
    "    return neighbors"
   ]
  },
  {
   "cell_type": "markdown",
   "id": "b885b416",
   "metadata": {},
   "source": [
    "### Make prediction on class"
   ]
  },
  {
   "cell_type": "code",
   "execution_count": 72,
   "id": "2f0f0065",
   "metadata": {},
   "outputs": [],
   "source": [
    "def predict_class(training_data, test_instance, k):\n",
    "    neighbors = get_neighbors(training_data, test_instance, k)\n",
    "    output_values = [row[-1] for row in neighbors]\n",
    "    prediction = max(set(output_values), key=output_values.count)\n",
    "    return prediction"
   ]
  },
  {
   "cell_type": "markdown",
   "id": "8a193891",
   "metadata": {},
   "source": [
    "Wire everything up, make prediction for [4.8,2.5,5.3,2.4] and print result. "
   ]
  },
  {
   "cell_type": "code",
   "execution_count": 76,
   "id": "7d0ce8f6",
   "metadata": {},
   "outputs": [
    {
     "name": "stdout",
     "output_type": "stream",
     "text": [
      "[Iris-setosa] => 0\n",
      "[Iris-versicolor] => 1\n",
      "[Iris-virginica] => 2\n",
      "Data=[4.8, 2.5, 5.3, 2.4], Predicted: 2\n"
     ]
    }
   ],
   "source": [
    "data = load_iris_dataset('iris.csv')\n",
    "for i in range(len(data[0])-1):\n",
    "    str_column_to_float(data, i)\n",
    "str_column_to_int(data, len(data[0])-1)\n",
    "k = 5\n",
    "test = [4.8,2.5,5.3,2.4]\n",
    "prediction = predict_class(data, test, k)\n",
    "print('Data=%s, Predicted: %s' % (row, prediction))"
   ]
  }
 ],
 "metadata": {
  "kernelspec": {
   "display_name": "Python 3 (ipykernel)",
   "language": "python",
   "name": "python3"
  },
  "language_info": {
   "codemirror_mode": {
    "name": "ipython",
    "version": 3
   },
   "file_extension": ".py",
   "mimetype": "text/x-python",
   "name": "python",
   "nbconvert_exporter": "python",
   "pygments_lexer": "ipython3",
   "version": "3.8.10"
  }
 },
 "nbformat": 4,
 "nbformat_minor": 5
}
